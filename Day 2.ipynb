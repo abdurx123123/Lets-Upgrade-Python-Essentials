{
 "cells": [
  {
   "cell_type": "markdown",
   "metadata": {},
   "source": [
    "# List and its default functions "
   ]
  },
  {
   "cell_type": "code",
   "execution_count": 2,
   "metadata": {},
   "outputs": [
    {
     "name": "stdout",
     "output_type": "stream",
     "text": [
      "['4', 'bob', 'kon']\n"
     ]
    }
   ],
   "source": [
    "l = ['4', 'bob', 'kon']\n",
    "print(l)"
   ]
  },
  {
   "cell_type": "code",
   "execution_count": 13,
   "metadata": {},
   "outputs": [
    {
     "name": "stdout",
     "output_type": "stream",
     "text": [
      "18\n"
     ]
    }
   ],
   "source": [
    "print(len(l))"
   ]
  },
  {
   "cell_type": "code",
   "execution_count": 15,
   "metadata": {},
   "outputs": [
    {
     "name": "stdout",
     "output_type": "stream",
     "text": [
      "kon\n"
     ]
    }
   ],
   "source": [
    "print(l[2])"
   ]
  },
  {
   "cell_type": "code",
   "execution_count": 23,
   "metadata": {},
   "outputs": [
    {
     "name": "stdout",
     "output_type": "stream",
     "text": [
      "['4', 'bob', 'kon', 'kkk', 'kkk', 'kkk', 'kkk', 'kkk', 'kkk', 'kkk', 'l', 'o', 'l', 'kkk', 'l', 'o', 'l', 'kkk', '7', '7', 7, 7, 7, 7]\n"
     ]
    }
   ],
   "source": [
    "l.append(7)\n",
    "print(l)"
   ]
  },
  {
   "cell_type": "markdown",
   "metadata": {},
   "source": [
    "# Dict and its default functions"
   ]
  },
  {
   "cell_type": "code",
   "execution_count": 32,
   "metadata": {},
   "outputs": [],
   "source": [
    "my_dict = {1: 'apple', 2: 'ball'}"
   ]
  },
  {
   "cell_type": "code",
   "execution_count": 36,
   "metadata": {},
   "outputs": [
    {
     "name": "stdout",
     "output_type": "stream",
     "text": [
      "apple\n"
     ]
    }
   ],
   "source": [
    "print(my_dict[1])"
   ]
  },
  {
   "cell_type": "code",
   "execution_count": 38,
   "metadata": {},
   "outputs": [
    {
     "name": "stdout",
     "output_type": "stream",
     "text": [
      "16\n",
      "{1: 1, 2: 4, 3: 9, 5: 25}\n",
      "(5, 25)\n",
      "{1: 1, 2: 4, 3: 9}\n"
     ]
    }
   ],
   "source": [
    "# Removing elements from a dictionary\n",
    "\n",
    "# create a dictionary\n",
    "squares = {1: 1, 2: 4, 3: 9, 4: 16, 5: 25}\n",
    "\n",
    "# remove a particular item, returns its value\n",
    "print(squares.pop(4))\n",
    "\n",
    "print(squares)\n",
    "\n",
    "\n",
    "print(squares.popitem())\n",
    "\n",
    "print(squares)"
   ]
  },
  {
   "cell_type": "markdown",
   "metadata": {},
   "source": [
    "# Sets and its Default Functions"
   ]
  },
  {
   "cell_type": "code",
   "execution_count": 40,
   "metadata": {},
   "outputs": [
    {
     "name": "stdout",
     "output_type": "stream",
     "text": [
      "{1, 2, 3}\n",
      "{'Hello', 1.0, (1, 2, 3)}\n"
     ]
    }
   ],
   "source": [
    "# Different types of sets in Python\n",
    "# set of integers\n",
    "my_set = {1, 2, 3}\n",
    "print(my_set)\n",
    "\n",
    "# set of mixed datatypes\n",
    "my_set = {1.0, \"Hello\", (1, 2, 3)}\n",
    "print(my_set)"
   ]
  },
  {
   "cell_type": "code",
   "execution_count": 43,
   "metadata": {},
   "outputs": [
    {
     "name": "stdout",
     "output_type": "stream",
     "text": [
      "{1, 3}\n",
      "{1, 2, 3}\n",
      "{1, 2, 3, 4}\n",
      "{1, 2, 3, 4, 5, 6, 8}\n"
     ]
    }
   ],
   "source": [
    "# initialize my_set\n",
    "my_set = {1, 3}\n",
    "print(my_set)\n",
    "my_set.add(2)\n",
    "print(my_set)\n",
    "\n",
    "\n",
    "my_set.update([2, 3, 4])\n",
    "print(my_set)\n",
    "\n",
    "my_set.update([4, 5], {1, 6, 8})\n",
    "print(my_set)"
   ]
  },
  {
   "cell_type": "markdown",
   "metadata": {},
   "source": [
    "# Tuple and its Defualt Functions"
   ]
  },
  {
   "cell_type": "code",
   "execution_count": 47,
   "metadata": {},
   "outputs": [
    {
     "name": "stdout",
     "output_type": "stream",
     "text": [
      "()\n",
      "(1, 2, 3)\n",
      "(1, 'Hello', 3.4)\n",
      "('mouse', [8, 4, 6], (1, 2, 3))\n"
     ]
    }
   ],
   "source": [
    "# Different types of tuples\n",
    "\n",
    "# Empty tuple\n",
    "my_tuple = ()\n",
    "print(my_tuple)\n",
    "\n",
    "# Tuple having integers\n",
    "my_tuple = (1, 2, 3)\n",
    "print(my_tuple)\n",
    "\n",
    "# tuple with mixed datatypes\n",
    "my_tuple = (1, \"Hello\", 3.4)\n",
    "print(my_tuple)\n",
    "\n",
    "# nested tuple\n",
    "my_tuple = (\"mouse\", [8, 4, 6], (1, 2, 3))\n",
    "print(my_tuple)"
   ]
  },
  {
   "cell_type": "code",
   "execution_count": 49,
   "metadata": {},
   "outputs": [
    {
     "name": "stdout",
     "output_type": "stream",
     "text": [
      "(3, 4.6, 'dog')\n",
      "3\n",
      "4.6\n",
      "dog\n"
     ]
    }
   ],
   "source": [
    "my_tuple = 3, 4.6, \"dog\"\n",
    "print(my_tuple)\n",
    "\n",
    "# tuple unpacking is also possible\n",
    "a, b, c = my_tuple\n",
    "\n",
    "print(a)      # 3\n",
    "print(b)      # 4.6\n",
    "print(c)      # dog"
   ]
  },
  {
   "cell_type": "code",
   "execution_count": 51,
   "metadata": {},
   "outputs": [
    {
     "name": "stdout",
     "output_type": "stream",
     "text": [
      "p\n",
      "t\n",
      "s\n",
      "4\n"
     ]
    }
   ],
   "source": [
    "# Accessing tuple elements using indexing\n",
    "my_tuple = ('p','e','r','m','i','t')\n",
    "\n",
    "print(my_tuple[0])   # 'p' \n",
    "print(my_tuple[5])   # 't'\n",
    "\n",
    "\n",
    "# nested tuple\n",
    "n_tuple = (\"mouse\", [8, 4, 6], (1, 2, 3))\n",
    "\n",
    "# nested index\n",
    "print(n_tuple[0][3])       # 's'\n",
    "print(n_tuple[1][1])       # 4"
   ]
  },
  {
   "cell_type": "markdown",
   "metadata": {},
   "source": [
    "# String and Its default functions"
   ]
  },
  {
   "cell_type": "code",
   "execution_count": 53,
   "metadata": {},
   "outputs": [
    {
     "name": "stdout",
     "output_type": "stream",
     "text": [
      "Hello\n",
      "Hello\n",
      "Hello\n",
      "Hello, welcome to\n",
      "           the world of Python\n"
     ]
    }
   ],
   "source": [
    "# defining strings in Python\n",
    "# all of the following are equivalent\n",
    "my_string = 'Hello'\n",
    "print(my_string)\n",
    "\n",
    "my_string = \"Hello\"\n",
    "print(my_string)\n",
    "\n",
    "my_string = '''Hello'''\n",
    "print(my_string)\n",
    "\n",
    "# triple quotes string can extend multiple lines\n",
    "my_string = \"\"\"Hello, welcome to\n",
    "           the world of Python\"\"\"\n",
    "print(my_string)"
   ]
  },
  {
   "cell_type": "code",
   "execution_count": 55,
   "metadata": {},
   "outputs": [
    {
     "name": "stdout",
     "output_type": "stream",
     "text": [
      "str =  programiz\n",
      "str[0] =  p\n",
      "str[-1] =  z\n",
      "str[1:5] =  rogr\n",
      "str[5:-2] =  am\n"
     ]
    }
   ],
   "source": [
    "#Accessing string characters in Python\n",
    "str = 'programiz'\n",
    "print('str = ', str)\n",
    "\n",
    "#first character\n",
    "print('str[0] = ', str[0])\n",
    "\n",
    "#last character\n",
    "print('str[-1] = ', str[-1])\n",
    "\n",
    "#slicing 2nd to 5th character\n",
    "print('str[1:5] = ', str[1:5])\n",
    "\n",
    "#slicing 6th to 2nd last character\n",
    "print('str[5:-2] = ', str[5:-2])"
   ]
  },
  {
   "cell_type": "code",
   "execution_count": null,
   "metadata": {},
   "outputs": [],
   "source": []
  }
 ],
 "metadata": {
  "kernelspec": {
   "display_name": "Python 3",
   "language": "python",
   "name": "python3"
  },
  "language_info": {
   "codemirror_mode": {
    "name": "ipython",
    "version": 3
   },
   "file_extension": ".py",
   "mimetype": "text/x-python",
   "name": "python",
   "nbconvert_exporter": "python",
   "pygments_lexer": "ipython3",
   "version": "3.7.6"
  }
 },
 "nbformat": 4,
 "nbformat_minor": 4
}
